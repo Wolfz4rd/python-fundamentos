{
 "cells": [
  {
   "cell_type": "code",
   "execution_count": 4,
   "metadata": {},
   "outputs": [
    {
     "name": "stdout",
     "output_type": "stream",
     "text": [
      "oli ivana\n"
     ]
    }
   ],
   "source": [
    "print(\"oli ivana\")"
   ]
  },
  {
   "cell_type": "markdown",
   "metadata": {},
   "source": [
    "#### fundamentos de python\n",
    " * variables\n",
    " * operadores matematicos\n",
    " * operadores logicos\n",
    " * operadores de comparacion\n",
    " * estructuras de control\n",
    "    - condicionales simples\n",
    "    - condiconales anidados\n",
    "    - condicionales encadenados\n",
    "    - ciclos finitos\n",
    "    - ciclos infinitos\n",
    " * funciones\n",
    " * estructura de datos\n",
    "    - Cadena de caracteres\n",
    "    - listas\n",
    "    - tuplas\n",
    "    - diccionarios"
   ]
  },
  {
   "cell_type": "markdown",
   "metadata": {},
   "source": [
    "### variables"
   ]
  },
  {
   "cell_type": "code",
   "execution_count": 31,
   "metadata": {},
   "outputs": [
    {
     "data": {
      "text/plain": [
       "'jose'"
      ]
     },
     "execution_count": 31,
     "metadata": {},
     "output_type": "execute_result"
    }
   ],
   "source": [
    "name = \"jose\""
   ]
  },
  {
   "cell_type": "code",
   "execution_count": 30,
   "metadata": {},
   "outputs": [],
   "source": [
    "last_name = \"martinez\""
   ]
  },
  {
   "cell_type": "code",
   "execution_count": 34,
   "metadata": {},
   "outputs": [
    {
     "data": {
      "text/plain": [
       "800"
      ]
     },
     "execution_count": 34,
     "metadata": {},
     "output_type": "execute_result"
    }
   ],
   "source": [
    "anchura = 10\n",
    "altura = 80\n",
    "area = qwert * asdfg\n",
    "\n",
    "area"
   ]
  },
  {
   "cell_type": "code",
   "execution_count": 39,
   "metadata": {},
   "outputs": [
    {
     "name": "stdout",
     "output_type": "stream",
     "text": [
      "nombre jose\n",
      "apellido martinez\n",
      "area 800\n"
     ]
    }
   ],
   "source": [
    "print(\"nombre\", name)\n",
    "print(\"apellido\", last_name)\n",
    "print(\"area\", area)"
   ]
  },
  {
   "cell_type": "markdown",
   "metadata": {},
   "source": [
    "# operadores matematicos"
   ]
  },
  {
   "cell_type": "code",
   "execution_count": 42,
   "metadata": {},
   "outputs": [
    {
     "name": "stdout",
     "output_type": "stream",
     "text": [
      "el resultado de la suma es 35\n"
     ]
    }
   ],
   "source": [
    "# suma\n",
    "numero_1 = 10\n",
    "numero_2 = 25\n",
    "resultado = numero_1 + numero_2\n",
    "print(\"el resultado de la suma es\", resultado)"
   ]
  },
  {
   "cell_type": "code",
   "execution_count": 44,
   "metadata": {},
   "outputs": [
    {
     "name": "stdout",
     "output_type": "stream",
     "text": [
      "el resultado de la resta es -15\n"
     ]
    }
   ],
   "source": [
    "# resta\n",
    "numero_1 = 10\n",
    "numero_2 = 25\n",
    "resultado = numero_1 - numero_2\n",
    "print(\"el resultado de la resta es\", resultado)"
   ]
  },
  {
   "cell_type": "code",
   "execution_count": 45,
   "metadata": {},
   "outputs": [
    {
     "name": "stdout",
     "output_type": "stream",
     "text": [
      "el resultado de la multiplicacion es 250\n"
     ]
    }
   ],
   "source": [
    "# multiplicacion\n",
    "numero_1 = 10\n",
    "numero_2 = 25\n",
    "resultado = numero_1 * numero_2\n",
    "print(\"el resultado de la multiplicacion es\", resultado)"
   ]
  },
  {
   "cell_type": "code",
   "execution_count": 46,
   "metadata": {},
   "outputs": [
    {
     "name": "stdout",
     "output_type": "stream",
     "text": [
      "el resultado de la division es 0.4\n"
     ]
    }
   ],
   "source": [
    "# division\n",
    "numero_1 = 10\n",
    "numero_2 = 25\n",
    "resultado = numero_1 / numero_2\n",
    "print(\"el resultado de la division es\", resultado)"
   ]
  },
  {
   "cell_type": "code",
   "execution_count": 48,
   "metadata": {},
   "outputs": [
    {
     "name": "stdout",
     "output_type": "stream",
     "text": [
      "<class 'str'>\n",
      "<class 'int'>\n",
      "<class 'float'>\n"
     ]
    }
   ],
   "source": [
    "print  ( type(last_name) )\n",
    "print  ( type(numero_1) )\n",
    "print  ( type(resultado) )"
   ]
  },
  {
   "cell_type": "markdown",
   "metadata": {},
   "source": [
    "### Estructuras de control"
   ]
  },
  {
   "cell_type": "code",
   "execution_count": 6,
   "metadata": {},
   "outputs": [],
   "source": [
    "name1 = \"pablo\"\n",
    "age = 16"
   ]
  },
  {
   "cell_type": "code",
   "execution_count": 8,
   "metadata": {},
   "outputs": [
    {
     "name": "stdout",
     "output_type": "stream",
     "text": [
      "buenos dias, adelante\n"
     ]
    }
   ],
   "source": [
    "if (age > 15):\n",
    "    print (\"buenos dias, adelante\")"
   ]
  },
  {
   "cell_type": "code",
   "execution_count": 17,
   "metadata": {},
   "outputs": [],
   "source": [
    "name1 = input(\"ingrese su nombre\")\n",
    "age = input(\"ingrese su edad\")\n",
    "age = int(age)\n",
    "if (age > 15):\n",
    "    print (\"buenos dias, adelante\", name1)"
   ]
  },
  {
   "cell_type": "code",
   "execution_count": 19,
   "metadata": {},
   "outputs": [
    {
     "data": {
      "text/plain": [
       "int"
      ]
     },
     "execution_count": 19,
     "metadata": {},
     "output_type": "execute_result"
    }
   ],
   "source": [
    "type(age)"
   ]
  },
  {
   "cell_type": "code",
   "execution_count": 33,
   "metadata": {},
   "outputs": [
    {
     "name": "stdout",
     "output_type": "stream",
     "text": [
      "buenos dias, adelante ale\n"
     ]
    }
   ],
   "source": [
    "name1 = input(\"ingrese su nombre\")\n",
    "age = int(input(\"ingrese su edad\"))\n",
    "day = input(\"ingrese el dia de la semana\")\n",
    "if (age > 15):\n",
    "    if day == \"sabado\":\n",
    "        print(\"buenos dias, adelante\", name1)"
   ]
  },
  {
   "cell_type": "code",
   "execution_count": 37,
   "metadata": {},
   "outputs": [
    {
     "ename": "ValueError",
     "evalue": "invalid literal for int() with base 10: ''",
     "output_type": "error",
     "traceback": [
      "\u001b[1;31m---------------------------------------------------------------------------\u001b[0m",
      "\u001b[1;31mValueError\u001b[0m                                Traceback (most recent call last)",
      "Cell \u001b[1;32mIn[37], line 2\u001b[0m\n\u001b[0;32m      1\u001b[0m name1 \u001b[38;5;241m=\u001b[39m \u001b[38;5;28minput\u001b[39m(\u001b[38;5;124m\"\u001b[39m\u001b[38;5;124mingrese su nombre\u001b[39m\u001b[38;5;124m\"\u001b[39m)\n\u001b[1;32m----> 2\u001b[0m age \u001b[38;5;241m=\u001b[39m \u001b[38;5;28;43mint\u001b[39;49m\u001b[43m(\u001b[49m\u001b[38;5;28;43minput\u001b[39;49m\u001b[43m(\u001b[49m\u001b[38;5;124;43m\"\u001b[39;49m\u001b[38;5;124;43mingrese su edad\u001b[39;49m\u001b[38;5;124;43m\"\u001b[39;49m\u001b[43m)\u001b[49m\u001b[43m)\u001b[49m\n\u001b[0;32m      3\u001b[0m day \u001b[38;5;241m=\u001b[39m \u001b[38;5;28minput\u001b[39m(\u001b[38;5;124m\"\u001b[39m\u001b[38;5;124mingrese el dia de la semana\u001b[39m\u001b[38;5;124m\"\u001b[39m)\n\u001b[0;32m      4\u001b[0m \u001b[38;5;28;01mif\u001b[39;00m (age \u001b[38;5;241m>\u001b[39m \u001b[38;5;241m15\u001b[39m) \u001b[38;5;129;01mand\u001b[39;00m (day \u001b[38;5;241m==\u001b[39m \u001b[38;5;124m\"\u001b[39m\u001b[38;5;124msabado\u001b[39m\u001b[38;5;124m\"\u001b[39m):\n",
      "\u001b[1;31mValueError\u001b[0m: invalid literal for int() with base 10: ''"
     ]
    }
   ],
   "source": [
    "name1 = input(\"ingrese su nombre\")\n",
    "age = int(input(\"ingrese su edad\"))\n",
    "day = input(\"ingrese el dia de la semana\")\n",
    "if (age > 15) and (day == \"sabado\"):\n",
    "        print(\"buenos dias, adelante\", name1)"
   ]
  },
  {
   "cell_type": "code",
   "execution_count": 46,
   "metadata": {},
   "outputs": [
    {
     "name": "stdout",
     "output_type": "stream",
     "text": [
      "buenos dias, adelante alex\n"
     ]
    }
   ],
   "source": [
    "name1 = input(\"ingrese su nombre\")\n",
    "age = int(input(\"ingrese su edad\"))\n",
    "day = input(\"ingrese el dia de la semana\")\n",
    "\n",
    "if (age > 15) and ((day == \"sabado\") or (day == \"viernes\")):\n",
    "    print(\"buenos dias, adelante\", name1)"
   ]
  },
  {
   "cell_type": "code",
   "execution_count": 49,
   "metadata": {},
   "outputs": [
    {
     "ename": "ValueError",
     "evalue": "invalid literal for int() with base 10: ''",
     "output_type": "error",
     "traceback": [
      "\u001b[1;31m---------------------------------------------------------------------------\u001b[0m",
      "\u001b[1;31mValueError\u001b[0m                                Traceback (most recent call last)",
      "Cell \u001b[1;32mIn[49], line 2\u001b[0m\n\u001b[0;32m      1\u001b[0m name1 \u001b[38;5;241m=\u001b[39m \u001b[38;5;28minput\u001b[39m(\u001b[38;5;124m\"\u001b[39m\u001b[38;5;124mingrese su nombre\u001b[39m\u001b[38;5;124m\"\u001b[39m)\n\u001b[1;32m----> 2\u001b[0m age \u001b[38;5;241m=\u001b[39m \u001b[38;5;28;43mint\u001b[39;49m\u001b[43m(\u001b[49m\u001b[38;5;28;43minput\u001b[39;49m\u001b[43m(\u001b[49m\u001b[38;5;124;43m\"\u001b[39;49m\u001b[38;5;124;43mingrese su edad\u001b[39;49m\u001b[38;5;124;43m\"\u001b[39;49m\u001b[43m)\u001b[49m\u001b[43m)\u001b[49m\n\u001b[0;32m      3\u001b[0m day \u001b[38;5;241m=\u001b[39m \u001b[38;5;28minput\u001b[39m(\u001b[38;5;124m\"\u001b[39m\u001b[38;5;124mingrese el dia de la semana\u001b[39m\u001b[38;5;124m\"\u001b[39m)\n\u001b[0;32m      5\u001b[0m \u001b[38;5;28;01mif\u001b[39;00m (age \u001b[38;5;241m>\u001b[39m \u001b[38;5;241m15\u001b[39m):\n",
      "\u001b[1;31mValueError\u001b[0m: invalid literal for int() with base 10: ''"
     ]
    }
   ],
   "source": [
    "name1 = input(\"ingrese su nombre\")\n",
    "age = int(input(\"ingrese su edad\"))\n",
    "day = input(\"ingrese el dia de la semana\")\n",
    "\n",
    "if (age > 15):\n",
    "    if (day == \"sabado\") or (day == \"viernes\"):\n",
    "        print(\"buenos dias, adelante\", name1)"
   ]
  },
  {
   "cell_type": "code",
   "execution_count": 57,
   "metadata": {},
   "outputs": [
    {
     "name": "stdout",
     "output_type": "stream",
     "text": [
      "buenos dias, adelante miguel\n"
     ]
    }
   ],
   "source": [
    "name1 = input(\"ingrese su nombre\")\n",
    "age = int(input(\"ingrese su edad\"))\n",
    "\n",
    "if (age > 15):\n",
    "    day = input(\"ingrese el dia de la semana\")\n",
    "\n",
    "    if (day == \"sabado\") or (day == \"viernes\"):\n",
    "        print(\"buenos dias, adelante\", name1)\n",
    "        \n",
    "    else:\n",
    "        print(\"no es viernes o sabado chavalin, vuelve algiuno de esos dias\", name1)\n",
    "\n",
    "else:\n",
    "    print(\"venga tio fuera de aqui\", name1)"
   ]
  }
 ],
 "metadata": {
  "kernelspec": {
   "display_name": "Python 3",
   "language": "python",
   "name": "python3"
  },
  "language_info": {
   "codemirror_mode": {
    "name": "ipython",
    "version": 3
   },
   "file_extension": ".py",
   "mimetype": "text/x-python",
   "name": "python",
   "nbconvert_exporter": "python",
   "pygments_lexer": "ipython3",
   "version": "3.12.5"
  }
 },
 "nbformat": 4,
 "nbformat_minor": 2
}

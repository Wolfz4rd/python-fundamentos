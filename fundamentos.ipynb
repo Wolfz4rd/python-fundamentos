{
 "cells": [
  {
   "cell_type": "code",
   "execution_count": 4,
   "metadata": {},
   "outputs": [
    {
     "name": "stdout",
     "output_type": "stream",
     "text": [
      "oli ivana\n"
     ]
    }
   ],
   "source": [
    "print(\"oli ivana\")"
   ]
  },
  {
   "cell_type": "markdown",
   "metadata": {},
   "source": [
    "#### fundamentos de python\n",
    " * variables\n",
    " * operadores matematicos\n",
    " * operadores logicos\n",
    " * operadores de comparacion\n",
    " * estructuras de control\n",
    "    - condicionales simples\n",
    "    - condiconales anidados\n",
    "    - condicionales encadenados\n",
    "    - ciclos finitos\n",
    "    - ciclos infinitos\n",
    " * funciones\n",
    " * estructura de datos\n",
    "    - Cadena de caracteres\n",
    "    - listas\n",
    "    - tuplas\n",
    "    - diccionarios"
   ]
  },
  {
   "cell_type": "markdown",
   "metadata": {},
   "source": [
    "### variables"
   ]
  },
  {
   "cell_type": "code",
   "execution_count": 31,
   "metadata": {},
   "outputs": [
    {
     "data": {
      "text/plain": [
       "'jose'"
      ]
     },
     "execution_count": 31,
     "metadata": {},
     "output_type": "execute_result"
    }
   ],
   "source": [
    "name = \"jose\""
   ]
  },
  {
   "cell_type": "code",
   "execution_count": 30,
   "metadata": {},
   "outputs": [],
   "source": [
    "last_name = \"martinez\""
   ]
  },
  {
   "cell_type": "code",
   "execution_count": 34,
   "metadata": {},
   "outputs": [
    {
     "data": {
      "text/plain": [
       "800"
      ]
     },
     "execution_count": 34,
     "metadata": {},
     "output_type": "execute_result"
    }
   ],
   "source": [
    "anchura = 10\n",
    "altura = 80\n",
    "area = qwert * asdfg\n",
    "\n",
    "area"
   ]
  },
  {
   "cell_type": "code",
   "execution_count": 39,
   "metadata": {},
   "outputs": [
    {
     "name": "stdout",
     "output_type": "stream",
     "text": [
      "nombre jose\n",
      "apellido martinez\n",
      "area 800\n"
     ]
    }
   ],
   "source": [
    "print(\"nombre\", name)\n",
    "print(\"apellido\", last_name)\n",
    "print(\"area\", area)"
   ]
  },
  {
   "cell_type": "markdown",
   "metadata": {},
   "source": [
    "# operadores matematicos"
   ]
  },
  {
   "cell_type": "code",
   "execution_count": 42,
   "metadata": {},
   "outputs": [
    {
     "name": "stdout",
     "output_type": "stream",
     "text": [
      "el resultado de la suma es 35\n"
     ]
    }
   ],
   "source": [
    "# suma\n",
    "numero_1 = 10\n",
    "numero_2 = 25\n",
    "resultado = numero_1 + numero_2\n",
    "print(\"el resultado de la suma es\", resultado)"
   ]
  },
  {
   "cell_type": "code",
   "execution_count": 44,
   "metadata": {},
   "outputs": [
    {
     "name": "stdout",
     "output_type": "stream",
     "text": [
      "el resultado de la resta es -15\n"
     ]
    }
   ],
   "source": [
    "# resta\n",
    "numero_1 = 10\n",
    "numero_2 = 25\n",
    "resultado = numero_1 - numero_2\n",
    "print(\"el resultado de la resta es\", resultado)"
   ]
  },
  {
   "cell_type": "code",
   "execution_count": 45,
   "metadata": {},
   "outputs": [
    {
     "name": "stdout",
     "output_type": "stream",
     "text": [
      "el resultado de la multiplicacion es 250\n"
     ]
    }
   ],
   "source": [
    "# multiplicacion\n",
    "numero_1 = 10\n",
    "numero_2 = 25\n",
    "resultado = numero_1 * numero_2\n",
    "print(\"el resultado de la multiplicacion es\", resultado)"
   ]
  },
  {
   "cell_type": "code",
   "execution_count": 46,
   "metadata": {},
   "outputs": [
    {
     "name": "stdout",
     "output_type": "stream",
     "text": [
      "el resultado de la division es 0.4\n"
     ]
    }
   ],
   "source": [
    "# division\n",
    "numero_1 = 10\n",
    "numero_2 = 25\n",
    "resultado = numero_1 / numero_2\n",
    "print(\"el resultado de la division es\", resultado)"
   ]
  },
  {
   "cell_type": "code",
   "execution_count": 48,
   "metadata": {},
   "outputs": [
    {
     "name": "stdout",
     "output_type": "stream",
     "text": [
      "<class 'str'>\n",
      "<class 'int'>\n",
      "<class 'float'>\n"
     ]
    }
   ],
   "source": [
    "print  ( type(last_name) )\n",
    "print  ( type(numero_1) )\n",
    "print  ( type(resultado) )"
   ]
  }
 ],
 "metadata": {
  "kernelspec": {
   "display_name": "Python 3",
   "language": "python",
   "name": "python3"
  },
  "language_info": {
   "codemirror_mode": {
    "name": "ipython",
    "version": 3
   },
   "file_extension": ".py",
   "mimetype": "text/x-python",
   "name": "python",
   "nbconvert_exporter": "python",
   "pygments_lexer": "ipython3",
   "version": "3.12.5"
  }
 },
 "nbformat": 4,
 "nbformat_minor": 2
}
